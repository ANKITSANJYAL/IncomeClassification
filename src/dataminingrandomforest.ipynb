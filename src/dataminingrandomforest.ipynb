{
 "cells": [
  {
   "cell_type": "code",
   "execution_count": 59,
   "metadata": {
    "_cell_guid": "b1076dfc-b9ad-4769-8c92-a6c4dae69d19",
    "_uuid": "8f2839f25d086af736a60e9eeb907d3b93b6e0e5",
    "execution": {
     "iopub.execute_input": "2024-12-17T21:37:32.185557Z",
     "iopub.status.busy": "2024-12-17T21:37:32.185033Z",
     "iopub.status.idle": "2024-12-17T21:37:32.732048Z",
     "shell.execute_reply": "2024-12-17T21:37:32.730646Z",
     "shell.execute_reply.started": "2024-12-17T21:37:32.185500Z"
    },
    "trusted": true
   },
   "outputs": [
    {
     "name": "stdout",
     "output_type": "stream",
     "text": [
      "/kaggle/input/dataminingproper/test-3.csv\n",
      "/kaggle/input/dataminingproper/train-3.csv\n",
      "/kaggle/input/dataminingtrainclean/train.csv\n",
      "/kaggle/input/dataminingtrainclean/test.csv\n"
     ]
    }
   ],
   "source": [
    "# This Python 3 environment comes with many helpful analytics libraries installed\n",
    "# It is defined by the kaggle/python Docker image: https://github.com/kaggle/docker-python\n",
    "# For example, here's several helpful packages to load\n",
    "\n",
    "import numpy as np # linear algebra\n",
    "import pandas as pd # data processing, CSV file I/O (e.g. pd.read_csv)\n",
    "from sklearn.model_selection import train_test_split\n",
    "from sklearn.ensemble import RandomForestClassifier\n",
    "from sklearn.metrics import classification_report, confusion_matrix\n",
    "from sklearn.model_selection import GridSearchCV,RandomizedSearchCV\n",
    "from imblearn.over_sampling import SMOTE\n",
    "from scipy.stats import randint, uniform\n",
    "import pickle\n",
    "import sys\n",
    "import pkg_resources\n",
    "import matplotlib.pyplot as plt\n",
    "import seaborn as sns\n",
    "\n",
    "# Input data files are available in the read-only \"../input/\" directory\n",
    "# For example, running this (by clicking run or pressing Shift+Enter) will list all files under the input directory\n",
    "\n",
    "import os\n",
    "for dirname, _, filenames in os.walk('/kaggle/input'):\n",
    "    for filename in filenames:\n",
    "        print(os.path.join(dirname, filename))\n",
    "\n",
    "# You can write up to 20GB to the current directory (/kaggle/working/) that gets preserved as output when you create a version using \"Save & Run All\" \n",
    "# You can also write temporary files to /kaggle/temp/, but they won't be saved outside of the current session"
   ]
  },
  {
   "cell_type": "code",
   "execution_count": null,
   "metadata": {
    "execution": {
     "iopub.execute_input": "2024-12-17T21:37:32.735932Z",
     "iopub.status.busy": "2024-12-17T21:37:32.734776Z",
     "iopub.status.idle": "2024-12-17T21:37:32.967920Z",
     "shell.execute_reply": "2024-12-17T21:37:32.966408Z",
     "shell.execute_reply.started": "2024-12-17T21:37:32.735888Z"
    },
    "trusted": true
   },
   "outputs": [
    {
     "name": "stdout",
     "output_type": "stream",
     "text": [
      "1.2.2\n"
     ]
    }
   ],
   "source": [
    "train_file_path = '/Users/ankitsanjyal/Desktop/Projects/Github/IncomeClassification/output/train.csv'\n",
    "test_file_path = '/Users/ankitsanjyal/Desktop/Projects/Github/IncomeClassification/output/test.csv'\n",
    "train_data = pd.read_csv(train_file_path)\n",
    "test_data = pd.read_csv(test_file_path)\n",
    "train_data.head()\n",
    "import sklearn\n",
    "print(sklearn.__version__)\n"
   ]
  },
  {
   "cell_type": "code",
   "execution_count": 61,
   "metadata": {
    "execution": {
     "iopub.execute_input": "2024-12-17T21:37:32.969640Z",
     "iopub.status.busy": "2024-12-17T21:37:32.969310Z",
     "iopub.status.idle": "2024-12-17T21:37:32.991502Z",
     "shell.execute_reply": "2024-12-17T21:37:32.990086Z",
     "shell.execute_reply.started": "2024-12-17T21:37:32.969603Z"
    },
    "trusted": true
   },
   "outputs": [],
   "source": [
    "X_train = train_data.drop('income', axis=1)\n",
    "y_train = train_data['income']\n",
    "\n",
    "X_train, X_test, y_train, y_test = train_test_split(X_train, y_train, test_size=0.2, random_state=42)\n",
    "\n",
    "X_testSet = test_data.drop('income', axis=1)\n",
    "y_testSet = test_data['income']"
   ]
  },
  {
   "cell_type": "code",
   "execution_count": 62,
   "metadata": {
    "execution": {
     "iopub.execute_input": "2024-12-17T21:37:32.994679Z",
     "iopub.status.busy": "2024-12-17T21:37:32.994294Z",
     "iopub.status.idle": "2024-12-17T21:37:35.650606Z",
     "shell.execute_reply": "2024-12-17T21:37:35.649460Z",
     "shell.execute_reply.started": "2024-12-17T21:37:32.994644Z"
    },
    "trusted": true
   },
   "outputs": [
    {
     "data": {
      "text/html": [
       "<style>#sk-container-id-13 {color: black;background-color: white;}#sk-container-id-13 pre{padding: 0;}#sk-container-id-13 div.sk-toggleable {background-color: white;}#sk-container-id-13 label.sk-toggleable__label {cursor: pointer;display: block;width: 100%;margin-bottom: 0;padding: 0.3em;box-sizing: border-box;text-align: center;}#sk-container-id-13 label.sk-toggleable__label-arrow:before {content: \"▸\";float: left;margin-right: 0.25em;color: #696969;}#sk-container-id-13 label.sk-toggleable__label-arrow:hover:before {color: black;}#sk-container-id-13 div.sk-estimator:hover label.sk-toggleable__label-arrow:before {color: black;}#sk-container-id-13 div.sk-toggleable__content {max-height: 0;max-width: 0;overflow: hidden;text-align: left;background-color: #f0f8ff;}#sk-container-id-13 div.sk-toggleable__content pre {margin: 0.2em;color: black;border-radius: 0.25em;background-color: #f0f8ff;}#sk-container-id-13 input.sk-toggleable__control:checked~div.sk-toggleable__content {max-height: 200px;max-width: 100%;overflow: auto;}#sk-container-id-13 input.sk-toggleable__control:checked~label.sk-toggleable__label-arrow:before {content: \"▾\";}#sk-container-id-13 div.sk-estimator input.sk-toggleable__control:checked~label.sk-toggleable__label {background-color: #d4ebff;}#sk-container-id-13 div.sk-label input.sk-toggleable__control:checked~label.sk-toggleable__label {background-color: #d4ebff;}#sk-container-id-13 input.sk-hidden--visually {border: 0;clip: rect(1px 1px 1px 1px);clip: rect(1px, 1px, 1px, 1px);height: 1px;margin: -1px;overflow: hidden;padding: 0;position: absolute;width: 1px;}#sk-container-id-13 div.sk-estimator {font-family: monospace;background-color: #f0f8ff;border: 1px dotted black;border-radius: 0.25em;box-sizing: border-box;margin-bottom: 0.5em;}#sk-container-id-13 div.sk-estimator:hover {background-color: #d4ebff;}#sk-container-id-13 div.sk-parallel-item::after {content: \"\";width: 100%;border-bottom: 1px solid gray;flex-grow: 1;}#sk-container-id-13 div.sk-label:hover label.sk-toggleable__label {background-color: #d4ebff;}#sk-container-id-13 div.sk-serial::before {content: \"\";position: absolute;border-left: 1px solid gray;box-sizing: border-box;top: 0;bottom: 0;left: 50%;z-index: 0;}#sk-container-id-13 div.sk-serial {display: flex;flex-direction: column;align-items: center;background-color: white;padding-right: 0.2em;padding-left: 0.2em;position: relative;}#sk-container-id-13 div.sk-item {position: relative;z-index: 1;}#sk-container-id-13 div.sk-parallel {display: flex;align-items: stretch;justify-content: center;background-color: white;position: relative;}#sk-container-id-13 div.sk-item::before, #sk-container-id-13 div.sk-parallel-item::before {content: \"\";position: absolute;border-left: 1px solid gray;box-sizing: border-box;top: 0;bottom: 0;left: 50%;z-index: -1;}#sk-container-id-13 div.sk-parallel-item {display: flex;flex-direction: column;z-index: 1;position: relative;background-color: white;}#sk-container-id-13 div.sk-parallel-item:first-child::after {align-self: flex-end;width: 50%;}#sk-container-id-13 div.sk-parallel-item:last-child::after {align-self: flex-start;width: 50%;}#sk-container-id-13 div.sk-parallel-item:only-child::after {width: 0;}#sk-container-id-13 div.sk-dashed-wrapped {border: 1px dashed gray;margin: 0 0.4em 0.5em 0.4em;box-sizing: border-box;padding-bottom: 0.4em;background-color: white;}#sk-container-id-13 div.sk-label label {font-family: monospace;font-weight: bold;display: inline-block;line-height: 1.2em;}#sk-container-id-13 div.sk-label-container {text-align: center;}#sk-container-id-13 div.sk-container {/* jupyter's `normalize.less` sets `[hidden] { display: none; }` but bootstrap.min.css set `[hidden] { display: none !important; }` so we also need the `!important` here to be able to override the default hidden behavior on the sphinx rendered scikit-learn.org. See: https://github.com/scikit-learn/scikit-learn/issues/21755 */display: inline-block !important;position: relative;}#sk-container-id-13 div.sk-text-repr-fallback {display: none;}</style><div id=\"sk-container-id-13\" class=\"sk-top-container\"><div class=\"sk-text-repr-fallback\"><pre>RandomForestClassifier()</pre><b>In a Jupyter environment, please rerun this cell to show the HTML representation or trust the notebook. <br />On GitHub, the HTML representation is unable to render, please try loading this page with nbviewer.org.</b></div><div class=\"sk-container\" hidden><div class=\"sk-item\"><div class=\"sk-estimator sk-toggleable\"><input class=\"sk-toggleable__control sk-hidden--visually\" id=\"sk-estimator-id-13\" type=\"checkbox\" checked><label for=\"sk-estimator-id-13\" class=\"sk-toggleable__label sk-toggleable__label-arrow\">RandomForestClassifier</label><div class=\"sk-toggleable__content\"><pre>RandomForestClassifier()</pre></div></div></div></div></div>"
      ],
      "text/plain": [
       "RandomForestClassifier()"
      ]
     },
     "execution_count": 62,
     "metadata": {},
     "output_type": "execute_result"
    }
   ],
   "source": [
    "rf_model = RandomForestClassifier()\n",
    "rf_model.fit(X_train, y_train)"
   ]
  },
  {
   "cell_type": "code",
   "execution_count": 63,
   "metadata": {
    "execution": {
     "iopub.execute_input": "2024-12-17T21:37:35.652847Z",
     "iopub.status.busy": "2024-12-17T21:37:35.652357Z",
     "iopub.status.idle": "2024-12-17T21:37:36.058697Z",
     "shell.execute_reply": "2024-12-17T21:37:36.057359Z",
     "shell.execute_reply.started": "2024-12-17T21:37:35.652794Z"
    },
    "trusted": true
   },
   "outputs": [
    {
     "name": "stdout",
     "output_type": "stream",
     "text": [
      "Classification Report:\n",
      "              precision    recall  f1-score   support\n",
      "\n",
      "           0       0.87      0.91      0.89      4942\n",
      "           1       0.66      0.58      0.62      1571\n",
      "\n",
      "    accuracy                           0.83      6513\n",
      "   macro avg       0.77      0.74      0.75      6513\n",
      "weighted avg       0.82      0.83      0.82      6513\n",
      "\n",
      "Confusion Matrix:\n",
      "[[4478  464]\n",
      " [ 662  909]]\n",
      "Model Accuracy: 0.8271150007676954\n"
     ]
    }
   ],
   "source": [
    "y_pred = rf_model.predict(X_test)\n",
    "print(\"Classification Report:\")\n",
    "print(classification_report(y_test, y_pred))\n",
    "\n",
    "#visualize correct and incorrect predictions for each class, helping us identify where the model struggles\n",
    "print(\"Confusion Matrix:\")\n",
    "print(confusion_matrix(y_test, y_pred))\n",
    "accuracy = rf_model.score(X_test, y_test)\n",
    "print(f\"Model Accuracy: {accuracy}\")"
   ]
  },
  {
   "cell_type": "markdown",
   "metadata": {},
   "source": [
    "Hyperperameter tuning"
   ]
  },
  {
   "cell_type": "code",
   "execution_count": 64,
   "metadata": {
    "execution": {
     "iopub.execute_input": "2024-12-17T21:37:36.061459Z",
     "iopub.status.busy": "2024-12-17T21:37:36.060968Z",
     "iopub.status.idle": "2024-12-17T21:37:36.248746Z",
     "shell.execute_reply": "2024-12-17T21:37:36.247464Z",
     "shell.execute_reply.started": "2024-12-17T21:37:36.061407Z"
    },
    "trusted": true
   },
   "outputs": [],
   "source": [
    "smt = SMOTE()\n",
    "X_train_sm, y_train_sm = smt.fit_resample(X_train, y_train)"
   ]
  },
  {
   "cell_type": "code",
   "execution_count": 65,
   "metadata": {
    "execution": {
     "iopub.execute_input": "2024-12-17T21:37:36.250981Z",
     "iopub.status.busy": "2024-12-17T21:37:36.250480Z",
     "iopub.status.idle": "2024-12-17T21:37:36.257393Z",
     "shell.execute_reply": "2024-12-17T21:37:36.256087Z",
     "shell.execute_reply.started": "2024-12-17T21:37:36.250934Z"
    },
    "trusted": true
   },
   "outputs": [],
   "source": [
    "forest_params = [{'max_depth': list(range(10, 15)), 'max_features': list(range(0,14))}]\n",
    "\n",
    "#grid_search = GridSearchCV(RandomForestClassifier(), forest_params, cv = 10, scoring='accuracy')\n",
    "#grid_search.fit(X_train_sm, y_train_sm) \n",
    "#print(grid_search.best_params_) "
   ]
  },
  {
   "cell_type": "code",
   "execution_count": 66,
   "metadata": {
    "execution": {
     "iopub.execute_input": "2024-12-17T21:37:36.259239Z",
     "iopub.status.busy": "2024-12-17T21:37:36.258860Z",
     "iopub.status.idle": "2024-12-17T21:37:43.936230Z",
     "shell.execute_reply": "2024-12-17T21:37:43.934876Z",
     "shell.execute_reply.started": "2024-12-17T21:37:36.259207Z"
    },
    "trusted": true
   },
   "outputs": [
    {
     "data": {
      "text/html": [
       "<style>#sk-container-id-14 {color: black;background-color: white;}#sk-container-id-14 pre{padding: 0;}#sk-container-id-14 div.sk-toggleable {background-color: white;}#sk-container-id-14 label.sk-toggleable__label {cursor: pointer;display: block;width: 100%;margin-bottom: 0;padding: 0.3em;box-sizing: border-box;text-align: center;}#sk-container-id-14 label.sk-toggleable__label-arrow:before {content: \"▸\";float: left;margin-right: 0.25em;color: #696969;}#sk-container-id-14 label.sk-toggleable__label-arrow:hover:before {color: black;}#sk-container-id-14 div.sk-estimator:hover label.sk-toggleable__label-arrow:before {color: black;}#sk-container-id-14 div.sk-toggleable__content {max-height: 0;max-width: 0;overflow: hidden;text-align: left;background-color: #f0f8ff;}#sk-container-id-14 div.sk-toggleable__content pre {margin: 0.2em;color: black;border-radius: 0.25em;background-color: #f0f8ff;}#sk-container-id-14 input.sk-toggleable__control:checked~div.sk-toggleable__content {max-height: 200px;max-width: 100%;overflow: auto;}#sk-container-id-14 input.sk-toggleable__control:checked~label.sk-toggleable__label-arrow:before {content: \"▾\";}#sk-container-id-14 div.sk-estimator input.sk-toggleable__control:checked~label.sk-toggleable__label {background-color: #d4ebff;}#sk-container-id-14 div.sk-label input.sk-toggleable__control:checked~label.sk-toggleable__label {background-color: #d4ebff;}#sk-container-id-14 input.sk-hidden--visually {border: 0;clip: rect(1px 1px 1px 1px);clip: rect(1px, 1px, 1px, 1px);height: 1px;margin: -1px;overflow: hidden;padding: 0;position: absolute;width: 1px;}#sk-container-id-14 div.sk-estimator {font-family: monospace;background-color: #f0f8ff;border: 1px dotted black;border-radius: 0.25em;box-sizing: border-box;margin-bottom: 0.5em;}#sk-container-id-14 div.sk-estimator:hover {background-color: #d4ebff;}#sk-container-id-14 div.sk-parallel-item::after {content: \"\";width: 100%;border-bottom: 1px solid gray;flex-grow: 1;}#sk-container-id-14 div.sk-label:hover label.sk-toggleable__label {background-color: #d4ebff;}#sk-container-id-14 div.sk-serial::before {content: \"\";position: absolute;border-left: 1px solid gray;box-sizing: border-box;top: 0;bottom: 0;left: 50%;z-index: 0;}#sk-container-id-14 div.sk-serial {display: flex;flex-direction: column;align-items: center;background-color: white;padding-right: 0.2em;padding-left: 0.2em;position: relative;}#sk-container-id-14 div.sk-item {position: relative;z-index: 1;}#sk-container-id-14 div.sk-parallel {display: flex;align-items: stretch;justify-content: center;background-color: white;position: relative;}#sk-container-id-14 div.sk-item::before, #sk-container-id-14 div.sk-parallel-item::before {content: \"\";position: absolute;border-left: 1px solid gray;box-sizing: border-box;top: 0;bottom: 0;left: 50%;z-index: -1;}#sk-container-id-14 div.sk-parallel-item {display: flex;flex-direction: column;z-index: 1;position: relative;background-color: white;}#sk-container-id-14 div.sk-parallel-item:first-child::after {align-self: flex-end;width: 50%;}#sk-container-id-14 div.sk-parallel-item:last-child::after {align-self: flex-start;width: 50%;}#sk-container-id-14 div.sk-parallel-item:only-child::after {width: 0;}#sk-container-id-14 div.sk-dashed-wrapped {border: 1px dashed gray;margin: 0 0.4em 0.5em 0.4em;box-sizing: border-box;padding-bottom: 0.4em;background-color: white;}#sk-container-id-14 div.sk-label label {font-family: monospace;font-weight: bold;display: inline-block;line-height: 1.2em;}#sk-container-id-14 div.sk-label-container {text-align: center;}#sk-container-id-14 div.sk-container {/* jupyter's `normalize.less` sets `[hidden] { display: none; }` but bootstrap.min.css set `[hidden] { display: none !important; }` so we also need the `!important` here to be able to override the default hidden behavior on the sphinx rendered scikit-learn.org. See: https://github.com/scikit-learn/scikit-learn/issues/21755 */display: inline-block !important;position: relative;}#sk-container-id-14 div.sk-text-repr-fallback {display: none;}</style><div id=\"sk-container-id-14\" class=\"sk-top-container\"><div class=\"sk-text-repr-fallback\"><pre>RandomForestClassifier(class_weight={0: 2, 1: 3}, max_depth=28,\n",
       "                       max_features=&#x27;log2&#x27;, n_estimators=173)</pre><b>In a Jupyter environment, please rerun this cell to show the HTML representation or trust the notebook. <br />On GitHub, the HTML representation is unable to render, please try loading this page with nbviewer.org.</b></div><div class=\"sk-container\" hidden><div class=\"sk-item\"><div class=\"sk-estimator sk-toggleable\"><input class=\"sk-toggleable__control sk-hidden--visually\" id=\"sk-estimator-id-14\" type=\"checkbox\" checked><label for=\"sk-estimator-id-14\" class=\"sk-toggleable__label sk-toggleable__label-arrow\">RandomForestClassifier</label><div class=\"sk-toggleable__content\"><pre>RandomForestClassifier(class_weight={0: 2, 1: 3}, max_depth=28,\n",
       "                       max_features=&#x27;log2&#x27;, n_estimators=173)</pre></div></div></div></div></div>"
      ],
      "text/plain": [
       "RandomForestClassifier(class_weight={0: 2, 1: 3}, max_depth=28,\n",
       "                       max_features='log2', n_estimators=173)"
      ]
     },
     "execution_count": 66,
     "metadata": {},
     "output_type": "execute_result"
    }
   ],
   "source": [
    "smote_model = RandomForestClassifier(class_weight={0: 2, 1: 3}, max_depth=28, max_features='log2', min_samples_split=2, n_estimators=173)\n",
    "smote_model.fit(X_train_sm, y_train_sm)"
   ]
  },
  {
   "cell_type": "code",
   "execution_count": 67,
   "metadata": {
    "execution": {
     "iopub.execute_input": "2024-12-17T21:37:43.938082Z",
     "iopub.status.busy": "2024-12-17T21:37:43.937704Z",
     "iopub.status.idle": "2024-12-17T21:37:44.398660Z",
     "shell.execute_reply": "2024-12-17T21:37:44.397093Z",
     "shell.execute_reply.started": "2024-12-17T21:37:43.938049Z"
    },
    "trusted": true
   },
   "outputs": [],
   "source": [
    "with open(\"randomForest.pki\", 'wb') as f:\n",
    "    pickle.dump(smote_model, f)"
   ]
  },
  {
   "cell_type": "code",
   "execution_count": 68,
   "metadata": {
    "execution": {
     "iopub.execute_input": "2024-12-17T21:37:44.406488Z",
     "iopub.status.busy": "2024-12-17T21:37:44.406060Z",
     "iopub.status.idle": "2024-12-17T21:37:45.135045Z",
     "shell.execute_reply": "2024-12-17T21:37:45.133490Z",
     "shell.execute_reply.started": "2024-12-17T21:37:44.406454Z"
    },
    "trusted": true
   },
   "outputs": [
    {
     "name": "stdout",
     "output_type": "stream",
     "text": [
      "Classification Report:\n",
      "              precision    recall  f1-score   support\n",
      "\n",
      "           0       0.91      0.85      0.88      4942\n",
      "           1       0.61      0.74      0.67      1571\n",
      "\n",
      "    accuracy                           0.82      6513\n",
      "   macro avg       0.76      0.80      0.77      6513\n",
      "weighted avg       0.84      0.82      0.83      6513\n",
      "\n",
      "Confusion Matrix:\n",
      "[[4187  755]\n",
      " [ 403 1168]]\n",
      "Model Accuracy: 0.822201750345463\n"
     ]
    }
   ],
   "source": [
    "y_pred_smote = smote_model.predict(X_test)\n",
    "print(\"Classification Report:\")\n",
    "print(classification_report(y_test, y_pred_smote))\n",
    "\n",
    "#visualize correct and incorrect predictions for each class, helping us identify where the model struggles\n",
    "print(\"Confusion Matrix:\")\n",
    "print(confusion_matrix(y_test, y_pred_smote))\n",
    "accuracy = smote_model.score(X_test, y_test)\n",
    "print(f\"Model Accuracy: {accuracy}\")"
   ]
  },
  {
   "cell_type": "code",
   "execution_count": 69,
   "metadata": {
    "execution": {
     "iopub.execute_input": "2024-12-17T21:37:45.137383Z",
     "iopub.status.busy": "2024-12-17T21:37:45.136886Z",
     "iopub.status.idle": "2024-12-17T21:37:46.991192Z",
     "shell.execute_reply": "2024-12-17T21:37:46.989965Z",
     "shell.execute_reply.started": "2024-12-17T21:37:45.137331Z"
    },
    "trusted": true
   },
   "outputs": [
    {
     "name": "stdout",
     "output_type": "stream",
     "text": [
      "Classification Report:\n",
      "              precision    recall  f1-score   support\n",
      "\n",
      "           0       0.91      0.85      0.88     12435\n",
      "           1       0.59      0.72      0.65      3846\n",
      "\n",
      "    accuracy                           0.82     16281\n",
      "   macro avg       0.75      0.78      0.76     16281\n",
      "weighted avg       0.83      0.82      0.82     16281\n",
      "\n",
      "Confusion Matrix:\n",
      "[[10545  1890]\n",
      " [ 1089  2757]]\n",
      "Model Accuracy: 0.8170259812050856\n"
     ]
    }
   ],
   "source": [
    "y_pred_testSet = smote_model.predict(X_testSet)\n",
    "print(\"Classification Report:\")\n",
    "print(classification_report(y_testSet, y_pred_testSet))\n",
    "\n",
    "#visualize correct and incorrect predictions for each class, helping us identify where the model struggles\n",
    "print(\"Confusion Matrix:\")\n",
    "print(confusion_matrix(y_testSet, y_pred_testSet))\n",
    "accuracy = smote_model.score(X_testSet, y_testSet)\n",
    "print(f\"Model Accuracy: {accuracy}\")"
   ]
  },
  {
   "cell_type": "code",
   "execution_count": null,
   "metadata": {
    "trusted": true
   },
   "outputs": [],
   "source": []
  },
  {
   "cell_type": "markdown",
   "metadata": {},
   "source": []
  },
  {
   "cell_type": "code",
   "execution_count": 70,
   "metadata": {
    "execution": {
     "iopub.execute_input": "2024-12-17T21:37:46.992987Z",
     "iopub.status.busy": "2024-12-17T21:37:46.992606Z",
     "iopub.status.idle": "2024-12-17T21:37:47.000918Z",
     "shell.execute_reply": "2024-12-17T21:37:46.999631Z",
     "shell.execute_reply.started": "2024-12-17T21:37:46.992953Z"
    },
    "trusted": true
   },
   "outputs": [
    {
     "data": {
      "text/plain": [
       "'param_distributions = {\\n    \\'n_estimators\\': randint(50, 200),      # Reduced upper bound\\n    \\'max_depth\\': randint(5, 30),           # Slightly reduced range\\n    \\'min_samples_split\\': randint(2, 10),   # Reduced upper bound\\n    \\'max_features\\': [\\'sqrt\\', \\'log2\\'],      # Removed None option as it\\'s usually not optimal\\n    \\'class_weight\\': [\\n        {0: 1, 1: 2},\\n        \\'balanced\\'                         # Reduced class weight options\\n    ]\\n}\\n\\nrandom_search = RandomizedSearchCV(\\n    RandomForestClassifier(),\\n    param_distributions=param_distributions,\\n    n_iter=50,                            # Reduced number of iterations\\n    cv=3,                                 # Reduced cross-validation folds\\n    scoring=\\'f1\\',\\n    n_jobs=-1,\\n    verbose=2,\\n    random_state=42\\n)\\n\\nrandom_search.fit(X_train_sm, y_train_sm)\\n\\nprint(\"Best parameters:\", random_search.best_params_)\\nprint(\"Best cross-validation score:\", random_search.best_score_)'"
      ]
     },
     "execution_count": 70,
     "metadata": {},
     "output_type": "execute_result"
    }
   ],
   "source": [
    "'''param_distributions = {\n",
    "    'n_estimators': randint(50, 200),      # Reduced upper bound\n",
    "    'max_depth': randint(5, 30),           # Slightly reduced range\n",
    "    'min_samples_split': randint(2, 10),   # Reduced upper bound\n",
    "    'max_features': ['sqrt', 'log2'],      # Removed None option as it's usually not optimal\n",
    "    'class_weight': [\n",
    "        {0: 1, 1: 2},\n",
    "        'balanced'                         # Reduced class weight options\n",
    "    ]\n",
    "}\n",
    "\n",
    "random_search = RandomizedSearchCV(\n",
    "    RandomForestClassifier(),\n",
    "    param_distributions=param_distributions,\n",
    "    n_iter=50,                            # Reduced number of iterations\n",
    "    cv=3,                                 # Reduced cross-validation folds\n",
    "    scoring='f1',\n",
    "    n_jobs=-1,\n",
    "    verbose=2,\n",
    "    random_state=42\n",
    ")\n",
    "\n",
    "random_search.fit(X_train_sm, y_train_sm)\n",
    "\n",
    "print(\"Best parameters:\", random_search.best_params_)\n",
    "print(\"Best cross-validation score:\", random_search.best_score_)'''"
   ]
  },
  {
   "cell_type": "code",
   "execution_count": 71,
   "metadata": {
    "execution": {
     "iopub.execute_input": "2024-12-17T21:37:47.003888Z",
     "iopub.status.busy": "2024-12-17T21:37:47.003350Z",
     "iopub.status.idle": "2024-12-17T21:37:54.620929Z",
     "shell.execute_reply": "2024-12-17T21:37:54.619566Z",
     "shell.execute_reply.started": "2024-12-17T21:37:47.003836Z"
    },
    "trusted": true
   },
   "outputs": [
    {
     "data": {
      "text/html": [
       "<style>#sk-container-id-15 {color: black;background-color: white;}#sk-container-id-15 pre{padding: 0;}#sk-container-id-15 div.sk-toggleable {background-color: white;}#sk-container-id-15 label.sk-toggleable__label {cursor: pointer;display: block;width: 100%;margin-bottom: 0;padding: 0.3em;box-sizing: border-box;text-align: center;}#sk-container-id-15 label.sk-toggleable__label-arrow:before {content: \"▸\";float: left;margin-right: 0.25em;color: #696969;}#sk-container-id-15 label.sk-toggleable__label-arrow:hover:before {color: black;}#sk-container-id-15 div.sk-estimator:hover label.sk-toggleable__label-arrow:before {color: black;}#sk-container-id-15 div.sk-toggleable__content {max-height: 0;max-width: 0;overflow: hidden;text-align: left;background-color: #f0f8ff;}#sk-container-id-15 div.sk-toggleable__content pre {margin: 0.2em;color: black;border-radius: 0.25em;background-color: #f0f8ff;}#sk-container-id-15 input.sk-toggleable__control:checked~div.sk-toggleable__content {max-height: 200px;max-width: 100%;overflow: auto;}#sk-container-id-15 input.sk-toggleable__control:checked~label.sk-toggleable__label-arrow:before {content: \"▾\";}#sk-container-id-15 div.sk-estimator input.sk-toggleable__control:checked~label.sk-toggleable__label {background-color: #d4ebff;}#sk-container-id-15 div.sk-label input.sk-toggleable__control:checked~label.sk-toggleable__label {background-color: #d4ebff;}#sk-container-id-15 input.sk-hidden--visually {border: 0;clip: rect(1px 1px 1px 1px);clip: rect(1px, 1px, 1px, 1px);height: 1px;margin: -1px;overflow: hidden;padding: 0;position: absolute;width: 1px;}#sk-container-id-15 div.sk-estimator {font-family: monospace;background-color: #f0f8ff;border: 1px dotted black;border-radius: 0.25em;box-sizing: border-box;margin-bottom: 0.5em;}#sk-container-id-15 div.sk-estimator:hover {background-color: #d4ebff;}#sk-container-id-15 div.sk-parallel-item::after {content: \"\";width: 100%;border-bottom: 1px solid gray;flex-grow: 1;}#sk-container-id-15 div.sk-label:hover label.sk-toggleable__label {background-color: #d4ebff;}#sk-container-id-15 div.sk-serial::before {content: \"\";position: absolute;border-left: 1px solid gray;box-sizing: border-box;top: 0;bottom: 0;left: 50%;z-index: 0;}#sk-container-id-15 div.sk-serial {display: flex;flex-direction: column;align-items: center;background-color: white;padding-right: 0.2em;padding-left: 0.2em;position: relative;}#sk-container-id-15 div.sk-item {position: relative;z-index: 1;}#sk-container-id-15 div.sk-parallel {display: flex;align-items: stretch;justify-content: center;background-color: white;position: relative;}#sk-container-id-15 div.sk-item::before, #sk-container-id-15 div.sk-parallel-item::before {content: \"\";position: absolute;border-left: 1px solid gray;box-sizing: border-box;top: 0;bottom: 0;left: 50%;z-index: -1;}#sk-container-id-15 div.sk-parallel-item {display: flex;flex-direction: column;z-index: 1;position: relative;background-color: white;}#sk-container-id-15 div.sk-parallel-item:first-child::after {align-self: flex-end;width: 50%;}#sk-container-id-15 div.sk-parallel-item:last-child::after {align-self: flex-start;width: 50%;}#sk-container-id-15 div.sk-parallel-item:only-child::after {width: 0;}#sk-container-id-15 div.sk-dashed-wrapped {border: 1px dashed gray;margin: 0 0.4em 0.5em 0.4em;box-sizing: border-box;padding-bottom: 0.4em;background-color: white;}#sk-container-id-15 div.sk-label label {font-family: monospace;font-weight: bold;display: inline-block;line-height: 1.2em;}#sk-container-id-15 div.sk-label-container {text-align: center;}#sk-container-id-15 div.sk-container {/* jupyter's `normalize.less` sets `[hidden] { display: none; }` but bootstrap.min.css set `[hidden] { display: none !important; }` so we also need the `!important` here to be able to override the default hidden behavior on the sphinx rendered scikit-learn.org. See: https://github.com/scikit-learn/scikit-learn/issues/21755 */display: inline-block !important;position: relative;}#sk-container-id-15 div.sk-text-repr-fallback {display: none;}</style><div id=\"sk-container-id-15\" class=\"sk-top-container\"><div class=\"sk-text-repr-fallback\"><pre>RandomForestClassifier(class_weight={0: 2, 1: 3}, max_depth=28,\n",
       "                       max_features=&#x27;log2&#x27;, n_estimators=173)</pre><b>In a Jupyter environment, please rerun this cell to show the HTML representation or trust the notebook. <br />On GitHub, the HTML representation is unable to render, please try loading this page with nbviewer.org.</b></div><div class=\"sk-container\" hidden><div class=\"sk-item\"><div class=\"sk-estimator sk-toggleable\"><input class=\"sk-toggleable__control sk-hidden--visually\" id=\"sk-estimator-id-15\" type=\"checkbox\" checked><label for=\"sk-estimator-id-15\" class=\"sk-toggleable__label sk-toggleable__label-arrow\">RandomForestClassifier</label><div class=\"sk-toggleable__content\"><pre>RandomForestClassifier(class_weight={0: 2, 1: 3}, max_depth=28,\n",
       "                       max_features=&#x27;log2&#x27;, n_estimators=173)</pre></div></div></div></div></div>"
      ],
      "text/plain": [
       "RandomForestClassifier(class_weight={0: 2, 1: 3}, max_depth=28,\n",
       "                       max_features='log2', n_estimators=173)"
      ]
     },
     "execution_count": 71,
     "metadata": {},
     "output_type": "execute_result"
    }
   ],
   "source": [
    "hailMary = RandomForestClassifier(class_weight={0: 2, 1: 3}, max_depth=28, max_features='log2', min_samples_split=2, n_estimators=173)\n",
    "hailMary.fit(X_train_sm, y_train_sm)"
   ]
  },
  {
   "cell_type": "code",
   "execution_count": 77,
   "metadata": {
    "execution": {
     "iopub.execute_input": "2024-12-17T22:00:16.515068Z",
     "iopub.status.busy": "2024-12-17T22:00:16.514570Z",
     "iopub.status.idle": "2024-12-17T22:00:18.520611Z",
     "shell.execute_reply": "2024-12-17T22:00:18.519419Z",
     "shell.execute_reply.started": "2024-12-17T22:00:16.515022Z"
    },
    "trusted": true
   },
   "outputs": [
    {
     "name": "stdout",
     "output_type": "stream",
     "text": [
      "Classification Report:\n",
      "              precision    recall  f1-score   support\n",
      "\n",
      "           0       0.91      0.85      0.88     12435\n",
      "           1       0.59      0.71      0.65      3846\n",
      "\n",
      "    accuracy                           0.82     16281\n",
      "   macro avg       0.75      0.78      0.76     16281\n",
      "weighted avg       0.83      0.82      0.82     16281\n",
      "\n",
      "Confusion Matrix:\n",
      "[[10546  1889]\n",
      " [ 1103  2743]]\n",
      "Model Accuracy: 0.8162275044530434\n"
     ]
    },
    {
     "data": {
      "image/png": "[encoded data removed]",
      "text/plain": [
       "<Figure size 500x500 with 2 Axes>"
      ]
     },
     "metadata": {},
     "output_type": "display_data"
    }
   ],
   "source": [
    "y_hail_mary = hailMary.predict(X_testSet)\n",
    "print(\"Classification Report:\")\n",
    "print(classification_report(y_testSet, y_hail_mary))\n",
    "\n",
    "#visualize correct and incorrect predictions for each class, helping us identify where the model struggles\n",
    "print(\"Confusion Matrix:\")\n",
    "print(confusion_matrix(y_testSet, y_hail_mary))\n",
    "accuracy = hailMary.score(X_testSet, y_testSet)\n",
    "print(f\"Model Accuracy: {accuracy}\")\n",
    "\n",
    "\n",
    "\n",
    "\n",
    "\n",
    "\n",
    "\n",
    "\n",
    "\n",
    "cm_val = pd.crosstab(y_testSet, y_hail_mary, rownames=['Actual labels'], colnames=['Predicted labels'])\n",
    "\n",
    "# Plot the confusion matrix\n",
    "fig, ax = plt.subplots(figsize=(5,5))\n",
    "sns.heatmap(cm_val, \n",
    "            xticklabels=[\"<50K\", '>50K'],\n",
    "            yticklabels=['<50K', '>50K'],\n",
    "            annot=True, \n",
    "            fmt='d',\n",
    "            linewidths=.2, \n",
    "            linecolor=\"Darkblue\", \n",
    "            cmap=\"Blues\",\n",
    "            ax=ax)\n",
    "plt.title('Confusion Matrix', fontsize=14)\n",
    "plt.show()"
   ]
  }
 ],
 "metadata": {
  "kaggle": {
   "accelerator": "none",
   "dataSources": [
    {
     "datasetId": 6261031,
     "sourceId": 10192852,
     "sourceType": "datasetVersion"
    },
    {
     "datasetId": 6317997,
     "sourceId": 10220364,
     "sourceType": "datasetVersion"
    }
   ],
   "dockerImageVersionId": 30804,
   "isGpuEnabled": false,
   "isInternetEnabled": true,
   "language": "python",
   "sourceType": "notebook"
  },
  "kernelspec": {
   "display_name": "Python 3",
   "language": "python",
   "name": "python3"
  },
  "language_info": {
   "codemirror_mode": {
    "name": "ipython",
    "version": 3
   },
   "file_extension": ".py",
   "mimetype": "text/x-python",
   "name": "python",
   "nbconvert_exporter": "python",
   "pygments_lexer": "ipython3",
   "version": "3.10.14"
  }
 },
 "nbformat": 4,
 "nbformat_minor": 4
}
