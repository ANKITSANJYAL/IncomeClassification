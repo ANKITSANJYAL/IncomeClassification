{
 "cells": [
  {
   "cell_type": "code",
   "execution_count": 4,
   "metadata": {},
   "outputs": [],
   "source": [
    "import pandas as pd\n",
    "import numpy as np\n",
    "from sklearn.naive_bayes import GaussianNB\n",
    "from sklearn.metrics import classification_report\n",
    "from sklearn.model_selection import GridSearchCV\n",
    "from sklearn.model_selection import train_test_split\n"
   ]
  },
  {
   "cell_type": "code",
   "execution_count": 2,
   "metadata": {},
   "outputs": [],
   "source": [
    "train_df = pd.read_csv(\"/Users/ankitsanjyal/Desktop/Projects/Github/IncomeClassification/output/train.csv\")\n",
    "test_df = pd.read_csv('/Users/ankitsanjyal/Desktop/Projects/Github/IncomeClassification/output/test.csv')"
   ]
  },
  {
   "cell_type": "code",
   "execution_count": 5,
   "metadata": {},
   "outputs": [],
   "source": [
    "X = train_df.drop('income',axis=1)\n",
    "y = train_df['income']\n",
    "\n",
    "X_train,X_val,y_train,y_val = train_test_split(X,y,test_size=0.1,random_state=42)\n"
   ]
  },
  {
   "cell_type": "code",
   "execution_count": 6,
   "metadata": {},
   "outputs": [
    {
     "name": "stdout",
     "output_type": "stream",
     "text": [
      "(29304, 27)\n",
      "(29304,)\n",
      "(3257, 27)\n",
      "(3257,)\n"
     ]
    }
   ],
   "source": [
    "print(X_train.shape)\n",
    "print(y_train.shape)\n",
    "print(X_val.shape)\n",
    "print(y_val.shape)"
   ]
  },
  {
   "cell_type": "code",
   "execution_count": 7,
   "metadata": {},
   "outputs": [
    {
     "name": "stdout",
     "output_type": "stream",
     "text": [
      "              precision    recall  f1-score   support\n",
      "\n",
      "         0.0       0.96      0.58      0.72      2456\n",
      "         1.0       0.41      0.92      0.57       801\n",
      "\n",
      "    accuracy                           0.66      3257\n",
      "   macro avg       0.69      0.75      0.64      3257\n",
      "weighted avg       0.82      0.66      0.68      3257\n",
      "\n"
     ]
    }
   ],
   "source": [
    "from sklearn.naive_bayes import GaussianNB\n",
    "from sklearn.metrics import classification_report\n",
    "\n",
    "# Initialize the Naive Bayes model\n",
    "nb = GaussianNB()\n",
    "\n",
    "# Train the model using the training data\n",
    "nb.fit(X_train, y_train)\n",
    "\n",
    "# Predict on the validation data\n",
    "y_pred = nb.predict(X_val)\n",
    "\n",
    "# Get the classification report\n",
    "report = classification_report(y_val, y_pred)\n",
    "\n",
    "# Print the classification report\n",
    "print(report)"
   ]
  },
  {
   "cell_type": "markdown",
   "metadata": {},
   "source": [
    "with parameter search"
   ]
  },
  {
   "cell_type": "code",
   "execution_count": 8,
   "metadata": {},
   "outputs": [
    {
     "name": "stdout",
     "output_type": "stream",
     "text": [
      "Best Parameters: {'priors': None, 'var_smoothing': 1e-06}\n",
      "Classification Report:\n",
      "               precision    recall  f1-score   support\n",
      "\n",
      "         0.0       0.93      0.70      0.80      2456\n",
      "         1.0       0.48      0.85      0.61       801\n",
      "\n",
      "    accuracy                           0.74      3257\n",
      "   macro avg       0.71      0.77      0.71      3257\n",
      "weighted avg       0.82      0.74      0.75      3257\n",
      "\n"
     ]
    }
   ],
   "source": [
    "from sklearn.naive_bayes import GaussianNB\n",
    "from sklearn.model_selection import GridSearchCV\n",
    "from sklearn.metrics import classification_report\n",
    "\n",
    "# Define the model\n",
    "nb = GaussianNB()\n",
    "\n",
    "# Define the parameter grid\n",
    "param_grid = {\n",
    "    'priors': [None, [0.6, 0.4], [0.5, 0.5]],  # Try different prior probabilities\n",
    "    'var_smoothing': [1e-9, 1e-8, 1e-7, 1e-6]  # Test different smoothing values\n",
    "}\n",
    "\n",
    "# Initialize GridSearchCV\n",
    "grid_search = GridSearchCV(estimator=nb, param_grid=param_grid, cv=5, scoring='accuracy', n_jobs=-1)\n",
    "\n",
    "# Fit GridSearchCV on the training data\n",
    "grid_search.fit(X_train, y_train)\n",
    "\n",
    "# Get the best model from grid search\n",
    "best_nb = grid_search.best_estimator_\n",
    "\n",
    "# Predict on the validation set using the best model\n",
    "y_pred = best_nb.predict(X_val)\n",
    "\n",
    "# Get the classification report for the best model\n",
    "report = classification_report(y_val, y_pred)\n",
    "\n",
    "# Print the best parameters and the classification report\n",
    "print(\"Best Parameters:\", grid_search.best_params_)\n",
    "print(\"Classification Report:\\n\", report)\n"
   ]
  },
  {
   "cell_type": "code",
   "execution_count": 10,
   "metadata": {},
   "outputs": [],
   "source": [
    "X_test = test_df.drop('income',axis=1)\n",
    "y_test = test_df['income']\n"
   ]
  },
  {
   "cell_type": "code",
   "execution_count": 11,
   "metadata": {},
   "outputs": [
    {
     "name": "stdout",
     "output_type": "stream",
     "text": [
      "report for the validation set:\n",
      "               precision    recall  f1-score   support\n",
      "\n",
      "         0.0       0.93      0.70      0.80      2456\n",
      "         1.0       0.48      0.85      0.61       801\n",
      "\n",
      "    accuracy                           0.74      3257\n",
      "   macro avg       0.71      0.77      0.71      3257\n",
      "weighted avg       0.82      0.74      0.75      3257\n",
      "\n",
      "report for the test set:\n",
      "               precision    recall  f1-score   support\n",
      "\n",
      "         0.0       0.82      0.90      0.86     12435\n",
      "         1.0       0.54      0.37      0.44      3846\n",
      "\n",
      "    accuracy                           0.78     16281\n",
      "   macro avg       0.68      0.64      0.65     16281\n",
      "weighted avg       0.76      0.78      0.76     16281\n",
      "\n"
     ]
    }
   ],
   "source": [
    "# Initialize the Naive Bayes model\n",
    "nb = GaussianNB(var_smoothing=1e-06,priors=None)\n",
    "\n",
    "# Train the model using the training data\n",
    "nb.fit(X_train, y_train)\n",
    "y_pred_val = nb.predict(X_val)\n",
    "y_pred_test = nb.predict(X_test)\n",
    "# Get the classification report\n",
    "report_val = classification_report(y_val, y_pred_val)\n",
    "report_test = classification_report(y_test,y_pred_test)\n",
    "# Print the classification report\n",
    "\n",
    "print(\"report for the validation set:\\n\",report_val)\n",
    "print(\"report for the test set:\\n\",report_test)"
   ]
  },
  {
   "cell_type": "code",
   "execution_count": null,
   "metadata": {},
   "outputs": [],
   "source": []
  }
 ],
 "metadata": {
  "kernelspec": {
   "display_name": "Python 3",
   "language": "python",
   "name": "python3"
  },
  "language_info": {
   "codemirror_mode": {
    "name": "ipython",
    "version": 3
   },
   "file_extension": ".py",
   "mimetype": "text/x-python",
   "name": "python",
   "nbconvert_exporter": "python",
   "pygments_lexer": "ipython3",
   "version": "3.9.6"
  }
 },
 "nbformat": 4,
 "nbformat_minor": 2
}
